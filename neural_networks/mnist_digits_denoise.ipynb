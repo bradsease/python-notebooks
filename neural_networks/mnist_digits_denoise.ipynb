{
 "cells": [
  {
   "cell_type": "code",
   "execution_count": 105,
   "metadata": {
    "collapsed": true
   },
   "outputs": [],
   "source": [
    "import tensorflow as tf\n",
    "import numpy as np\n",
    "import matplotlib.pyplot as plt"
   ]
  },
  {
   "cell_type": "code",
   "execution_count": 106,
   "metadata": {},
   "outputs": [
    {
     "name": "stdout",
     "output_type": "stream",
     "text": [
      "Extracting MNIST_data/train-images-idx3-ubyte.gz\n",
      "Extracting MNIST_data/train-labels-idx1-ubyte.gz\n",
      "Extracting MNIST_data/t10k-images-idx3-ubyte.gz\n",
      "Extracting MNIST_data/t10k-labels-idx1-ubyte.gz\n"
     ]
    }
   ],
   "source": [
    "from tensorflow.examples.tutorials.mnist import input_data\n",
    "mnist = input_data.read_data_sets(\"MNIST_data/\", one_hot=True)"
   ]
  },
  {
   "cell_type": "markdown",
   "metadata": {},
   "source": [
    "#### Define wrapper functions"
   ]
  },
  {
   "cell_type": "code",
   "execution_count": 107,
   "metadata": {
    "collapsed": true
   },
   "outputs": [],
   "source": [
    "def weight_variable(shape):\n",
    "    \"\"\" Create TensorFlow weight with initial noise. \"\"\"\n",
    "    initial = tf.truncated_normal(shape, stddev=0.1)\n",
    "    return tf.Variable(initial)\n",
    "\n",
    "def bias_variable(shape):\n",
    "    \"\"\" Create TensorFlow bias with initial value of 0.1. \"\"\"\n",
    "    initial = tf.constant(0.1, shape=shape)\n",
    "    return tf.Variable(initial)\n",
    "\n",
    "def conv2d(x, W):\n",
    "    \"\"\" 2D TensorFlow convolution with stride of 1 and zero padding. \"\"\"\n",
    "    return tf.nn.conv2d(x, W, strides=[1, 1, 1, 1], padding='SAME')\n",
    "\n",
    "def max_pool_2x2(x):\n",
    "    \"\"\" TensorFlow max pooling over 2x2 blocks. \"\"\"\n",
    "    return tf.nn.max_pool(x, ksize=[1, 2, 2, 1], strides=[1, 2, 2, 1],\n",
    "                          padding='SAME')\n",
    "\n",
    "def imshow(img, scale=None):\n",
    "\n",
    "    # Assign default scale\n",
    "    if not scale:\n",
    "        scale = [np.min(img), np.max(img)]\n",
    "\n",
    "    # Set up image plot\n",
    "    plt.imshow(img, cmap='gray', vmin=scale[0], vmax=scale[1])\n",
    "    plt.xticks([]), plt.yticks([])\n",
    "\n",
    "    # Show\n",
    "    plt.show()"
   ]
  },
  {
   "cell_type": "markdown",
   "metadata": {},
   "source": [
    "#### Construct network"
   ]
  },
  {
   "cell_type": "code",
   "execution_count": 108,
   "metadata": {
    "collapsed": true
   },
   "outputs": [],
   "source": [
    "# Define variables\n",
    "x = tf.placeholder(tf.float32, shape=[None, 784])\n",
    "y_ = tf.placeholder(tf.float32, shape=[None, 784])"
   ]
  },
  {
   "cell_type": "code",
   "execution_count": 109,
   "metadata": {
    "collapsed": true
   },
   "outputs": [],
   "source": [
    "## Layer 1 (Convolutional)\n",
    "\n",
    "# Create weights\n",
    "W_conv1 = weight_variable([5, 5, 1, 1])\n",
    "\n",
    "# Reshape image\n",
    "# -1 allows tf.reshape to infer that dimension\n",
    "x_image = tf.reshape(x, [-1, 28, 28, 1])\n",
    "\n",
    "# Convolve image\n",
    "h_conv1 = conv2d(x_image, W_conv1)"
   ]
  },
  {
   "cell_type": "code",
   "execution_count": 110,
   "metadata": {
    "collapsed": true
   },
   "outputs": [],
   "source": [
    "## Readout layer\n",
    "\n",
    "# Compute output\n",
    "y_conv = tf.reshape(h_conv1, [-1, 784])"
   ]
  },
  {
   "cell_type": "markdown",
   "metadata": {},
   "source": [
    "#### Train network"
   ]
  },
  {
   "cell_type": "code",
   "execution_count": 111,
   "metadata": {},
   "outputs": [
    {
     "name": "stdout",
     "output_type": "stream",
     "text": [
      "step     0, current score 0.0965327\n",
      "step  1000, current score 0.041716\n",
      "step  2000, current score 0.0288027\n",
      "step  3000, current score 0.0254543\n",
      "step  4000, current score 0.0238367\n",
      "step  5000, current score 0.0240528\n",
      "step  6000, current score 0.0244158\n",
      "step  7000, current score 0.0227147\n",
      "step  8000, current score 0.0235703\n",
      "step  9000, current score 0.0226999\n",
      "step 10000, current score 0.0236743\n",
      "step 11000, current score 0.0248221\n",
      "step 12000, current score 0.023135\n",
      "step 13000, current score 0.0238586\n",
      "step 14000, current score 0.0237676\n",
      "step 15000, current score 0.0234607\n",
      "step 16000, current score 0.0234187\n",
      "step 17000, current score 0.0235196\n",
      "step 18000, current score 0.0237018\n",
      "step 19000, current score 0.0232255\n"
     ]
    }
   ],
   "source": [
    "# Build training function\n",
    "cross_entropy = tf.reduce_mean(tf.square(y_ - y_conv))\n",
    "train_step = tf.train.AdamOptimizer(1e-4).minimize(cross_entropy)\n",
    "\n",
    "# Build accuracy measure\n",
    "correct_prediction = tf.equal(tf.argmax(y_conv, 1), tf.argmax(y_, 1))\n",
    "accuracy = tf.reduce_mean(tf.cast(correct_prediction, tf.float32))\n",
    "\n",
    "# Create saver\n",
    "saver = tf.train.Saver()\n",
    "\n",
    "with tf.Session() as sess:\n",
    "\n",
    "    # Initialize variables\n",
    "    sess.run(tf.global_variables_initializer())\n",
    "\n",
    "    # Iterate through \n",
    "    for i in range(20000):\n",
    "        \n",
    "        # Import next batch\n",
    "        # batch = (data, labels)\n",
    "        # data: 50 x 784, labels: 50 x 784\n",
    "        batch = mnist.train.next_batch(50)\n",
    "        noise_batch = batch[0] + 0.5*np.random.rand(*batch[0].shape)\n",
    "\n",
    "        # Report iteration stats\n",
    "        if i % 1000 == 0:\n",
    "            train_accuracy = cross_entropy.eval(feed_dict={x: noise_batch,\n",
    "                                                      y_: batch[0]})\n",
    "            print('step {:5d}, current score {:g}'.format(\n",
    "                i, train_accuracy))\n",
    "\n",
    "        # Train network\n",
    "        train_step.run(feed_dict={x: noise_batch, y_: batch[0]})\n",
    "\n",
    "    # Save result\n",
    "    saver.save(sess, \"checkpoints/mnist_digits_denoise.ckpt\")\n",
    "    result_kernel = np.squeeze(np.array(W_conv1.eval()))"
   ]
  },
  {
   "cell_type": "markdown",
   "metadata": {},
   "source": [
    "#### Visualize Result"
   ]
  },
  {
   "cell_type": "code",
   "execution_count": 112,
   "metadata": {},
   "outputs": [
    {
     "data": {
      "image/png": "[encoded data removed]",
      "text/plain": [
       "<matplotlib.figure.Figure at 0x7f71bd5bef60>"
      ]
     },
     "metadata": {},
     "output_type": "display_data"
    }
   ],
   "source": [
    "imshow(result_kernel)"
   ]
  },
  {
   "cell_type": "code",
   "execution_count": null,
   "metadata": {
    "collapsed": true
   },
   "outputs": [],
   "source": []
  }
 ],
 "metadata": {
  "kernelspec": {
   "display_name": "Python 3",
   "language": "python",
   "name": "python3"
  },
  "language_info": {
   "codemirror_mode": {
    "name": "ipython",
    "version": 3
   },
   "file_extension": ".py",
   "mimetype": "text/x-python",
   "name": "python",
   "nbconvert_exporter": "python",
   "pygments_lexer": "ipython3",
   "version": "3.6.1"
  }
 },
 "nbformat": 4,
 "nbformat_minor": 2
}
