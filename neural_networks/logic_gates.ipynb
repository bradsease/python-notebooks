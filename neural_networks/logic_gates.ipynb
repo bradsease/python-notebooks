{
 "cells": [
  {
   "cell_type": "code",
   "execution_count": 62,
   "metadata": {
    "collapsed": false
   },
   "outputs": [],
   "source": [
    "import tensorflow as tf\n",
    "import numpy as np\n",
    "import matplotlib.pyplot as plt"
   ]
  },
  {
   "cell_type": "markdown",
   "metadata": {},
   "source": [
    "### User Settings"
   ]
  },
  {
   "cell_type": "code",
   "execution_count": 63,
   "metadata": {
    "collapsed": true
   },
   "outputs": [],
   "source": [
    "# Training data\n",
    "trainset_in  = np.array([[0,0], [0,1], [1,0], [1,1]]).T\n",
    "trainset_out = np.array([[  0,     1,     1,     0]])\n",
    "\n",
    "# Training iterations\n",
    "num_runs     = 10000\n",
    "\n",
    "# Network dimensions\n",
    "Width = 4\n",
    "Depth = 2"
   ]
  },
  {
   "cell_type": "markdown",
   "metadata": {},
   "source": [
    "### Set Up TensorFlow Network"
   ]
  },
  {
   "cell_type": "code",
   "execution_count": 64,
   "metadata": {
    "collapsed": false
   },
   "outputs": [],
   "source": [
    "# Allocate input/output placeholders\n",
    "x_ = tf.placeholder(tf.float32, [trainset_in.shape[0], None])\n",
    "y_ = tf.placeholder(tf.float32, [trainset_out.shape[0], None])\n",
    "\n",
    "# Allocate weights, biases, and nodes\n",
    "W = []; b = []; node = [x_]\n",
    "for i in range(Depth):\n",
    "    \n",
    "    # Handle first layer\n",
    "    if (i == 0):\n",
    "        cols = trainset_in.shape[0]\n",
    "    else:\n",
    "        cols = Width\n",
    "    \n",
    "    # Handle last layer\n",
    "    if (i == Depth-1):\n",
    "        rows = trainset_out.shape[0]\n",
    "    else:\n",
    "        rows = Width\n",
    "    \n",
    "    # Create weights, biases, and nodes\n",
    "    W.append(tf.Variable(tf.random_uniform([rows, cols], -1, 1)))\n",
    "    b.append(tf.Variable(tf.zeros([rows, 1])))\n",
    "    node.append(tf.nn.sigmoid(tf.matmul(W[-1], node[i]) + b[-1]))\n",
    "\n",
    "# Set up performance function    \n",
    "model = node[-1]\n",
    "cost = tf.reduce_mean(( (y_ * tf.log(model)) + \n",
    "        ((1 - y_) * tf.log(1.0 - model)) ) * -1)\n",
    "train_step = tf.train.GradientDescentOptimizer(0.1).minimize(cost)"
   ]
  },
  {
   "cell_type": "markdown",
   "metadata": {
    "collapsed": false
   },
   "source": [
    "### Train Network"
   ]
  },
  {
   "cell_type": "code",
   "execution_count": null,
   "metadata": {
    "collapsed": true
   },
   "outputs": [],
   "source": [
    "# Initialize session\n",
    "sess = tf.Session()\n",
    "sess.run(tf.global_variables_initializer())"
   ]
  },
  {
   "cell_type": "code",
   "execution_count": 69,
   "metadata": {
    "collapsed": false
   },
   "outputs": [],
   "source": [
    "# Train\n",
    "for i in range(num_runs):\n",
    "    sess.run(train_step, feed_dict={x_:trainset_in, y_:trainset_out})"
   ]
  },
  {
   "cell_type": "markdown",
   "metadata": {},
   "source": [
    "### Check Performance"
   ]
  },
  {
   "cell_type": "code",
   "execution_count": 70,
   "metadata": {
    "collapsed": false
   },
   "outputs": [
    {
     "data": {
      "text/plain": [
       "array([[ 0.00522244,  0.99412471,  0.99737799,  0.00403545]], dtype=float32)"
      ]
     },
     "execution_count": 70,
     "metadata": {},
     "output_type": "execute_result"
    }
   ],
   "source": [
    "# Check result\n",
    "sess.run(model, feed_dict={x_:trainset_in, y_:trainset_out})"
   ]
  },
  {
   "cell_type": "code",
   "execution_count": 71,
   "metadata": {
    "collapsed": false
   },
   "outputs": [
    {
     "data": {
      "text/plain": [
       "0.0044494579"
      ]
     },
     "execution_count": 71,
     "metadata": {},
     "output_type": "execute_result"
    }
   ],
   "source": [
    "# Check final cost\n",
    "sess.run(cost, feed_dict={x_:trainset_in, y_:trainset_out})"
   ]
  }
 ],
 "metadata": {
  "anaconda-cloud": {},
  "kernelspec": {
   "display_name": "Python [conda env:tensorflow]",
   "language": "python",
   "name": "conda-env-tensorflow-py"
  },
  "language_info": {
   "codemirror_mode": {
    "name": "ipython",
    "version": 3
   },
   "file_extension": ".py",
   "mimetype": "text/x-python",
   "name": "python",
   "nbconvert_exporter": "python",
   "pygments_lexer": "ipython3",
   "version": "3.5.3"
  }
 },
 "nbformat": 4,
 "nbformat_minor": 2
}
